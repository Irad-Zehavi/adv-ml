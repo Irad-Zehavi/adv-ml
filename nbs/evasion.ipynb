{
 "cells": [
  {
   "attachments": {},
   "cell_type": "markdown",
   "metadata": {},
   "source": [
    "# Evasion\n",
    "\n",
    "> Attacks against classification models that construct special inputs (a.k.a adversarial examples) that appear natural to a human but are misclassified by the model."
   ]
  },
  {
   "cell_type": "code",
   "execution_count": 1,
   "metadata": {},
   "outputs": [],
   "source": [
    "#| default_exp evasion"
   ]
  },
  {
   "cell_type": "code",
   "execution_count": 2,
   "metadata": {},
   "outputs": [],
   "source": [
    "#| hide\n",
    "from nbdev.showdoc import *"
   ]
  },
  {
   "cell_type": "code",
   "execution_count": 3,
   "metadata": {},
   "outputs": [],
   "source": [
    "#| export\n",
    "from abc import ABC, abstractclassmethod, abstractmethod\n",
    "from typing import Callable, Type\n",
    "\n",
    "import torch\n",
    "from torch import nn\n",
    "from fastai.vision.all import *\n",
    "\n",
    "\n",
    "class Perturber(ABC, nn.Module):\n",
    "    \"Perturbs inputs. Perturbations are bounded under some metric (e.g. some norm). Meant to be subclassed and then passed to `AdversarialExamplesAttack`\"\n",
    "    def __init__(self, epsilon, x, rand_init):\n",
    "        super().__init__()\n",
    "        self.epsilon = epsilon\n",
    "        self.p = nn.Parameter(self.rand_init(epsilon, x.shape) if rand_init else torch.zeros(x.shape))\n",
    "        self.clamp_pixel_values(x)\n",
    "\n",
    "    def forward(self, x):\n",
    "        return x + self.p    "
   ]
  },
  {
   "cell_type": "code",
   "execution_count": 4,
   "metadata": {},
   "outputs": [],
   "source": [
    "#| export\n",
    "@patch(cls_method=True)\n",
    "@abstractmethod\n",
    "def rand_init(cls: Perturber, epsilon, shape):\n",
    "    \"Initialize a random perturbation\"\n",
    "    ..."
   ]
  },
  {
   "cell_type": "code",
   "execution_count": 5,
   "metadata": {},
   "outputs": [],
   "source": [
    "#| export\n",
    "@patch\n",
    "@abstractmethod\n",
    "def clamp_pixel_values(self: Perturber, x):\n",
    "    \"Clamp peturbation such that perturbing `x` maintains valid pixel values\"\n",
    "    ..."
   ]
  },
  {
   "cell_type": "code",
   "execution_count": 6,
   "metadata": {},
   "outputs": [],
   "source": [
    "#| export\n",
    "@patch\n",
    "@abstractmethod\n",
    "def callback(self: Perturber) -> Callback:\n",
    "    \"Return a callback in charge of affecting the training loop (e.g. clamping the perturbation after an optimization step, steepest descent, etc.)\"\n",
    "    ..."
   ]
  },
  {
   "cell_type": "code",
   "execution_count": 7,
   "metadata": {},
   "outputs": [],
   "source": [
    "#| export\n",
    "class LinfPerturber(Perturber):\n",
    "    \"Perturbs inputs under a bounded $l_\\infty$ norm\"\n",
    "    @classmethod\n",
    "    def rand_init(cls, epsilon, shape):\n",
    "        return torch.rand(shape) * epsilon\n",
    "    \n",
    "    def clamp_pixel_values(self, x):\n",
    "        with torch.no_grad():\n",
    "            x = x.to(self.p.device)\n",
    "            self.p.data = (x + self.p).clamp(0., 1.) - x\n",
    "\n",
    "    def callback(self):\n",
    "        class ProjectionCallback(Callback):\n",
    "            def before_step(inner_self):\n",
    "                with torch.no_grad():\n",
    "                    self.p.grad.sign_()\n",
    "\n",
    "            def after_batch(inner_self):\n",
    "                with torch.no_grad():\n",
    "                    self.p.clamp_(-self.epsilon, self.epsilon)  # keep perturbation small\n",
    "                    self.clamp_pixel_values(inner_self.x)\n",
    "\n",
    "        return ProjectionCallback()\n"
   ]
  },
  {
   "cell_type": "code",
   "execution_count": 8,
   "metadata": {},
   "outputs": [],
   "source": [
    "#| export\n",
    "class AdversarialExamplesAttack(object):\n",
    "    \"Constructs adversarial examples: slightly perturbed inputs that fool classification models\"\n",
    "    def __init__(self,\n",
    "                 model: Module,\n",
    "                 loss: Callable = CrossEntropyLossFlat(),\n",
    "                 perturber_type: Type[Perturber] = LinfPerturber,\n",
    "                 targeted: bool = False,  # Whether the constructed inputs should be classified as the specified targets or not\n",
    "                 min_delta: float = 1e-2,  # Minimum loss delta for `ReduceLROnPlateau` and `EarlyStoppingCallback`\n",
    "                 min_lr: float = 1e-6,  # Minimum lr for `ReduceLROnPlateau`\n",
    "                 lr: float = None,  # pass `None` to pick `lr` based on other params\n",
    "                 # defaults taken from advertorch\n",
    "                 epsilon: float = 0.3,\n",
    "                 epoch_size: int = 10,  # Affects how often epoch-callbacks are called (e.g. `Recorder`` and `EarlyStoppingCallback`)\n",
    "                 n_epochs: int = 4,\n",
    "                 rand_init: bool = True):\n",
    "        self.loss = loss if targeted else (lambda *args, **kwargs: -loss(*args, **kwargs))\n",
    "        self.lr = lr or (epsilon / epoch_size)\n",
    "        store_attr('model, perturber_type, min_delta, min_lr, epsilon, epoch_size, n_epochs, rand_init')\n",
    "\n",
    "    def perturb(self, dsets):\n",
    "        x, y = dsets.load()\n",
    "        x, y = x.detach().clone(), y.detach().clone()  # TODO: can I get rid of this?\n",
    "        self.model.eval()\n",
    "        self.model.requires_grad_(False)\n",
    "\n",
    "        perturber = self.perturber_type(self.epsilon, x, self.rand_init)\n",
    "\n",
    "        class TrainLoop(TrainEvalCallback):\n",
    "            def before_train(self):\n",
    "                super().before_train()\n",
    "                self.model.eval()\n",
    "\n",
    "            def before_validate(self):\n",
    "                raise CancelValidException\n",
    "\n",
    "        learner = Learner(DataLoaders([(x, y) for _ in range(self.epoch_size)], []),\n",
    "                          nn.Sequential(perturber, self.model),\n",
    "                          self.loss,\n",
    "                          SGD,\n",
    "                          self.lr,\n",
    "                          train_bn=False,\n",
    "                          default_cbs=False,\n",
    "                          cbs=[TrainLoop, Recorder(valid_metrics=False), ProgressCallback, BnFreeze,\n",
    "                               perturber.callback(),\n",
    "                               ReduceLROnPlateau('train_loss', min_delta=self.min_delta, min_lr=self.min_lr),\n",
    "                               EarlyStoppingCallback('train_loss', min_delta=self.min_delta / 10)\n",
    "                               ])\n",
    "        learner.fit(self.n_epochs)\n",
    "        p = perturber.p.data.detach().cpu()\n",
    "        return Datasets(tls=[TfmdLists(x.cpu() + p, ToTensor()),  # ToTensor for decoding\n",
    "                             dsets.tls[1]])"
   ]
  },
  {
   "cell_type": "code",
   "execution_count": 9,
   "metadata": {},
   "outputs": [
    {
     "data": {
      "text/markdown": [
       "---\n",
       "\n",
       "### AdversarialExamplesAttack.perturb\n",
       "\n",
       ">      AdversarialExamplesAttack.perturb (dsets)"
      ],
      "text/plain": [
       "---\n",
       "\n",
       "### AdversarialExamplesAttack.perturb\n",
       "\n",
       ">      AdversarialExamplesAttack.perturb (dsets)"
      ]
     },
     "execution_count": 9,
     "metadata": {},
     "output_type": "execute_result"
    }
   ],
   "source": [
    "show_doc(AdversarialExamplesAttack.perturb)"
   ]
  },
  {
   "cell_type": "code",
   "execution_count": 10,
   "metadata": {},
   "outputs": [],
   "source": [
    "from fastai_datasets.all import *\n",
    "from similarity_learning.all import *"
   ]
  },
  {
   "cell_type": "code",
   "execution_count": 11,
   "metadata": {},
   "outputs": [
    {
     "data": {
      "text/html": [
       "<table border=\"1\" class=\"dataframe\">\n",
       "  <thead>\n",
       "    <tr style=\"text-align: left;\">\n",
       "      <th>epoch</th>\n",
       "      <th>train_loss</th>\n",
       "      <th>valid_loss</th>\n",
       "      <th>accuracy</th>\n",
       "      <th>time</th>\n",
       "    </tr>\n",
       "  </thead>\n",
       "  <tbody>\n",
       "    <tr>\n",
       "      <td>0</td>\n",
       "      <td>0.172130</td>\n",
       "      <td>0.133872</td>\n",
       "      <td>0.963000</td>\n",
       "      <td>00:25</td>\n",
       "    </tr>\n",
       "  </tbody>\n",
       "</table>"
      ],
      "text/plain": [
       "<IPython.core.display.HTML object>"
      ]
     },
     "metadata": {},
     "output_type": "display_data"
    }
   ],
   "source": [
    "mnist = MNIST()\n",
    "classifier = MLP(10)\n",
    "learn = Learner(mnist.dls(), classifier, metrics=accuracy)\n",
    "learn.fit(1)"
   ]
  },
  {
   "cell_type": "code",
   "execution_count": 12,
   "metadata": {},
   "outputs": [],
   "source": [
    "sub_dsets = mnist.valid.random_sub_dsets(64)"
   ]
  },
  {
   "cell_type": "code",
   "execution_count": 13,
   "metadata": {},
   "outputs": [
    {
     "data": {
      "text/html": [],
      "text/plain": [
       "<IPython.core.display.HTML object>"
      ]
     },
     "metadata": {},
     "output_type": "display_data"
    },
    {
     "data": {
      "image/png": "[encoded data removed]",
      "text/plain": [
       "<Figure size 900x900 with 9 Axes>"
      ]
     },
     "metadata": {},
     "output_type": "display_data"
    }
   ],
   "source": [
    "learn.show_results(shuffle=False, dl=sub_dsets.dl())\n",
    "benign_accuracy = learn.validate(dl=sub_dsets.dl())[1]\n",
    "test(benign_accuracy, .9, ge)"
   ]
  },
  {
   "cell_type": "code",
   "execution_count": 14,
   "metadata": {},
   "outputs": [
    {
     "data": {
      "text/html": [
       "<table border=\"1\" class=\"dataframe\">\n",
       "  <thead>\n",
       "    <tr style=\"text-align: left;\">\n",
       "      <th>epoch</th>\n",
       "      <th>train_loss</th>\n",
       "      <th>time</th>\n",
       "    </tr>\n",
       "  </thead>\n",
       "  <tbody>\n",
       "    <tr>\n",
       "      <td>0</td>\n",
       "      <td>-3.363828</td>\n",
       "      <td>00:00</td>\n",
       "    </tr>\n",
       "    <tr>\n",
       "      <td>1</td>\n",
       "      <td>-5.948072</td>\n",
       "      <td>00:00</td>\n",
       "    </tr>\n",
       "    <tr>\n",
       "      <td>2</td>\n",
       "      <td>-7.121306</td>\n",
       "      <td>00:00</td>\n",
       "    </tr>\n",
       "    <tr>\n",
       "      <td>3</td>\n",
       "      <td>-7.727537</td>\n",
       "      <td>00:00</td>\n",
       "    </tr>\n",
       "    <tr>\n",
       "      <td>4</td>\n",
       "      <td>-8.085769</td>\n",
       "      <td>00:00</td>\n",
       "    </tr>\n",
       "    <tr>\n",
       "      <td>5</td>\n",
       "      <td>-8.318174</td>\n",
       "      <td>00:00</td>\n",
       "    </tr>\n",
       "    <tr>\n",
       "      <td>6</td>\n",
       "      <td>-8.478257</td>\n",
       "      <td>00:00</td>\n",
       "    </tr>\n",
       "    <tr>\n",
       "      <td>7</td>\n",
       "      <td>-8.593016</td>\n",
       "      <td>00:00</td>\n",
       "    </tr>\n",
       "    <tr>\n",
       "      <td>8</td>\n",
       "      <td>-8.677756</td>\n",
       "      <td>00:00</td>\n",
       "    </tr>\n",
       "    <tr>\n",
       "      <td>9</td>\n",
       "      <td>-8.741797</td>\n",
       "      <td>00:00</td>\n",
       "    </tr>\n",
       "  </tbody>\n",
       "</table>"
      ],
      "text/plain": [
       "<IPython.core.display.HTML object>"
      ]
     },
     "metadata": {},
     "output_type": "display_data"
    }
   ],
   "source": [
    "attack = AdversarialExamplesAttack(classifier, epsilon=.15, n_epochs=10)\n",
    "perturbed_dsets = attack.perturb(sub_dsets)"
   ]
  },
  {
   "cell_type": "code",
   "execution_count": 15,
   "metadata": {},
   "outputs": [
    {
     "data": {
      "text/html": [],
      "text/plain": [
       "<IPython.core.display.HTML object>"
      ]
     },
     "metadata": {},
     "output_type": "display_data"
    },
    {
     "data": {
      "image/png": "[encoded data removed]",
      "text/plain": [
       "<Figure size 900x900 with 9 Axes>"
      ]
     },
     "metadata": {},
     "output_type": "display_data"
    }
   ],
   "source": [
    "learn.show_results(shuffle=False, dl=TfmdDL(perturbed_dsets))\n",
    "benign_accuracy = learn.validate(dl=TfmdDL(perturbed_dsets))[1]\n",
    "test(benign_accuracy, .1, le)"
   ]
  },
  {
   "cell_type": "code",
   "execution_count": 16,
   "metadata": {},
   "outputs": [],
   "source": [
    "#| hide\n",
    "import nbdev; nbdev.nbdev_export()"
   ]
  }
 ],
 "metadata": {
  "kernelspec": {
   "display_name": "python3",
   "language": "python",
   "name": "python3"
  },
  "language_info": {
   "codemirror_mode": {
    "name": "ipython",
    "version": 3
   },
   "file_extension": ".py",
   "mimetype": "text/x-python",
   "name": "python",
   "nbconvert_exporter": "python",
   "pygments_lexer": "ipython3",
   "version": "3.9.16"
  }
 },
 "nbformat": 4,
 "nbformat_minor": 4
}
