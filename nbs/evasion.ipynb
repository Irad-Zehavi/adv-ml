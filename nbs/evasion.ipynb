{
 "cells": [
  {
   "attachments": {},
   "cell_type": "markdown",
   "metadata": {},
   "source": [
    "# Evasion\n",
    "\n",
    "> Attacks against classification models that construct special inputs (a.k.a adversarial examples) that appear natural to a human but are misclassified by the model."
   ]
  },
  {
   "cell_type": "code",
   "execution_count": 1,
   "metadata": {},
   "outputs": [],
   "source": [
    "#| default_exp evasion"
   ]
  },
  {
   "cell_type": "code",
   "execution_count": 2,
   "metadata": {},
   "outputs": [],
   "source": [
    "#| hide\n",
    "from nbdev.showdoc import *"
   ]
  },
  {
   "cell_type": "code",
   "execution_count": 3,
   "metadata": {},
   "outputs": [],
   "source": [
    "#| export\n",
    "from advertorch.attacks import LinfPGDAttack\n",
    "from typing import Callable\n",
    "\n",
    "import torch\n",
    "from fastai.vision.all import *\n",
    "\n",
    "from torch.nn import Module, Sequential\n",
    "from torch.nn.parameter import Parameter\n",
    "\n",
    "\n",
    "class LinfProjectionCallback(Callback):\n",
    "    def __init__(self, epsilon, x, rand_init):\n",
    "        super().__init__()\n",
    "        self.epsilon = epsilon\n",
    "        self.p = Parameter(torch.rand(x.shape) * self.epsilon if rand_init else torch.zeros(x.shape))\n",
    "        self.clamp_pixel_values(x)\n",
    "\n",
    "    def before_step(self):\n",
    "        with torch.no_grad():\n",
    "            self.p.grad.sign_()\n",
    "\n",
    "    def after_batch(self):\n",
    "        with torch.no_grad():\n",
    "            self.p.clamp_(-self.epsilon, self.epsilon)  # keep perturbation small\n",
    "            self.clamp_pixel_values(self.x)\n",
    "\n",
    "    def clamp_pixel_values(self, x):\n",
    "        with torch.no_grad():\n",
    "            x = x.to(self.p.device)\n",
    "            self.p.data = (x + self.p).clamp(0., 1.) - x\n",
    "\n",
    "\n",
    "class PGD(object):\n",
    "    def __init__(self,\n",
    "                 model: Module,\n",
    "                 loss: Callable,\n",
    "                 targeted: bool,  # Whether the constructed inputs should be classified as the specified targets or not\n",
    "                 min_delta: float = 1e-2,  # Minimum loss delta for `ReduceLROnPlateau` and `EarlyStoppingCallback`\n",
    "                 min_lr: float = 1e-6,  # Minimum lr for `ReduceLROnPlateau`\n",
    "                 lr: float = None,  # pass `None` to pick `lr` based on other params\n",
    "                 # defaults taken from advertorch\n",
    "                 epsilon: float = 0.3,\n",
    "                 epoch_size: int = 10,  # Affects how often epoch-callbacks are called (e.g. `Recorder`` and `EarlyStoppingCallback`)\n",
    "                 n_epochs: int = 4,\n",
    "                 rand_init: bool = True):\n",
    "        self.loss = loss if targeted else (lambda *args, **kwargs: -loss(*args, **kwargs))\n",
    "        self.lr = lr or (epsilon / epoch_size)\n",
    "        store_attr('model, min_delta, min_lr, epsilon, epoch_size, n_epochs, rand_init')\n",
    "\n",
    "    def perturb_dl(self, dl: DataLoader):\n",
    "        return torch.cat([self.perturb_batch(x, y) for x, y in dl])\n",
    "\n",
    "    def perturb(self, dsets):\n",
    "        x, y = dsets.load()\n",
    "        x, y = x.detach().clone(), y.detach().clone()  # TODO: can I get rid of this?\n",
    "        self.model.eval()\n",
    "        self.model.requires_grad_(False)\n",
    "\n",
    "        proj_callback = LinfProjectionCallback(self.epsilon, x, self.rand_init)\n",
    "        pert_module = Lambda(proj_callback.p.add)\n",
    "        pert_module.p = proj_callback.p  # to register as a parameter\n",
    "\n",
    "        class TrainLoop(TrainEvalCallback):\n",
    "            def before_train(self):\n",
    "                super().before_train()\n",
    "                self.model.eval()\n",
    "\n",
    "            def before_validate(self):\n",
    "                raise CancelValidException\n",
    "\n",
    "        learner = Learner(DataLoaders([(x, y) for _ in range(self.epoch_size)], []),\n",
    "                          Sequential(pert_module, self.model),\n",
    "                          self.loss,\n",
    "                          SGD,\n",
    "                          self.lr,\n",
    "                          train_bn=False,\n",
    "                          default_cbs=False,\n",
    "                          cbs=[TrainLoop, Recorder(valid_metrics=False), ProgressCallback, BnFreeze,\n",
    "                               proj_callback,\n",
    "                               ReduceLROnPlateau('train_loss', min_delta=self.min_delta, min_lr=self.min_lr),\n",
    "                               EarlyStoppingCallback('train_loss', min_delta=self.min_delta / 10)\n",
    "                               ])\n",
    "        learner.fit(self.n_epochs)\n",
    "        p = proj_callback.p.data.detach().cpu()\n",
    "        return Datasets(tls=[TfmdLists(x.cpu() + p, ToTensor()),  # ToTensor for decoding\n",
    "                             dsets.tls[1]])"
   ]
  },
  {
   "cell_type": "code",
   "execution_count": 4,
   "metadata": {},
   "outputs": [],
   "source": [
    "from fastai_datasets.all import *\n",
    "from similarity_learning.all import *"
   ]
  },
  {
   "cell_type": "code",
   "execution_count": 5,
   "metadata": {},
   "outputs": [
    {
     "data": {
      "text/html": [
       "<table border=\"1\" class=\"dataframe\">\n",
       "  <thead>\n",
       "    <tr style=\"text-align: left;\">\n",
       "      <th>epoch</th>\n",
       "      <th>train_loss</th>\n",
       "      <th>valid_loss</th>\n",
       "      <th>accuracy</th>\n",
       "      <th>time</th>\n",
       "    </tr>\n",
       "  </thead>\n",
       "  <tbody>\n",
       "    <tr>\n",
       "      <td>0</td>\n",
       "      <td>0.168905</td>\n",
       "      <td>0.125007</td>\n",
       "      <td>0.965100</td>\n",
       "      <td>00:17</td>\n",
       "    </tr>\n",
       "  </tbody>\n",
       "</table>"
      ],
      "text/plain": [
       "<IPython.core.display.HTML object>"
      ]
     },
     "metadata": {},
     "output_type": "display_data"
    }
   ],
   "source": [
    "mnist = MNIST()\n",
    "classifier = MLP(10)\n",
    "learn = Learner(mnist.dls(), classifier, metrics=accuracy)\n",
    "learn.fit(1)"
   ]
  },
  {
   "cell_type": "code",
   "execution_count": 6,
   "metadata": {},
   "outputs": [],
   "source": [
    "sub_dsets = mnist.valid.random_sub_dsets(9)"
   ]
  },
  {
   "cell_type": "code",
   "execution_count": 7,
   "metadata": {},
   "outputs": [
    {
     "data": {
      "text/html": [],
      "text/plain": [
       "<IPython.core.display.HTML object>"
      ]
     },
     "metadata": {},
     "output_type": "display_data"
    },
    {
     "data": {
      "image/png": "[encoded data removed]",
      "text/plain": [
       "<Figure size 900x900 with 9 Axes>"
      ]
     },
     "metadata": {},
     "output_type": "display_data"
    }
   ],
   "source": [
    "learn.show_results(shuffle=False, dl=sub_dsets.dl())\n",
    "benign_accuracy = learn.validate(dl=sub_dsets.dl())[1]\n",
    "test(benign_accuracy, .9, ge)"
   ]
  },
  {
   "cell_type": "code",
   "execution_count": 8,
   "metadata": {},
   "outputs": [
    {
     "data": {
      "text/html": [
       "<table border=\"1\" class=\"dataframe\">\n",
       "  <thead>\n",
       "    <tr style=\"text-align: left;\">\n",
       "      <th>epoch</th>\n",
       "      <th>train_loss</th>\n",
       "      <th>time</th>\n",
       "    </tr>\n",
       "  </thead>\n",
       "  <tbody>\n",
       "    <tr>\n",
       "      <td>0</td>\n",
       "      <td>-3.537765</td>\n",
       "      <td>00:00</td>\n",
       "    </tr>\n",
       "    <tr>\n",
       "      <td>1</td>\n",
       "      <td>-5.549550</td>\n",
       "      <td>00:00</td>\n",
       "    </tr>\n",
       "    <tr>\n",
       "      <td>2</td>\n",
       "      <td>-6.414016</td>\n",
       "      <td>00:00</td>\n",
       "    </tr>\n",
       "    <tr>\n",
       "      <td>3</td>\n",
       "      <td>-6.860954</td>\n",
       "      <td>00:00</td>\n",
       "    </tr>\n",
       "    <tr>\n",
       "      <td>4</td>\n",
       "      <td>-7.125674</td>\n",
       "      <td>00:00</td>\n",
       "    </tr>\n",
       "    <tr>\n",
       "      <td>5</td>\n",
       "      <td>-7.298158</td>\n",
       "      <td>00:00</td>\n",
       "    </tr>\n",
       "    <tr>\n",
       "      <td>6</td>\n",
       "      <td>-7.416848</td>\n",
       "      <td>00:00</td>\n",
       "    </tr>\n",
       "    <tr>\n",
       "      <td>7</td>\n",
       "      <td>-7.502000</td>\n",
       "      <td>00:00</td>\n",
       "    </tr>\n",
       "    <tr>\n",
       "      <td>8</td>\n",
       "      <td>-7.564634</td>\n",
       "      <td>00:00</td>\n",
       "    </tr>\n",
       "    <tr>\n",
       "      <td>9</td>\n",
       "      <td>-7.612167</td>\n",
       "      <td>00:00</td>\n",
       "    </tr>\n",
       "  </tbody>\n",
       "</table>"
      ],
      "text/plain": [
       "<IPython.core.display.HTML object>"
      ]
     },
     "metadata": {},
     "output_type": "display_data"
    }
   ],
   "source": [
    "attack = PGD(classifier, CrossEntropyLossFlat(), targeted=False, epsilon=.15, n_epochs=10)\n",
    "perturbed_dsets = attack.perturb(sub_dsets)"
   ]
  },
  {
   "cell_type": "code",
   "execution_count": 9,
   "metadata": {},
   "outputs": [
    {
     "data": {
      "text/html": [],
      "text/plain": [
       "<IPython.core.display.HTML object>"
      ]
     },
     "metadata": {},
     "output_type": "display_data"
    },
    {
     "data": {
      "image/png": "[encoded data removed]",
      "text/plain": [
       "<Figure size 900x900 with 9 Axes>"
      ]
     },
     "metadata": {},
     "output_type": "display_data"
    }
   ],
   "source": [
    "learn.show_results(shuffle=False, dl=TfmdDL(perturbed_dsets))\n",
    "benign_accuracy = learn.validate(dl=TfmdDL(perturbed_dsets))[1]\n",
    "test(benign_accuracy, .1, le)"
   ]
  },
  {
   "cell_type": "code",
   "execution_count": 10,
   "metadata": {},
   "outputs": [],
   "source": [
    "#| hide\n",
    "import nbdev; nbdev.nbdev_export()"
   ]
  }
 ],
 "metadata": {
  "kernelspec": {
   "display_name": "python3",
   "language": "python",
   "name": "python3"
  },
  "language_info": {
   "codemirror_mode": {
    "name": "ipython",
    "version": 3
   },
   "file_extension": ".py",
   "mimetype": "text/x-python",
   "name": "python",
   "nbconvert_exporter": "python",
   "pygments_lexer": "ipython3",
   "version": "3.9.16"
  }
 },
 "nbformat": 4,
 "nbformat_minor": 4
}
