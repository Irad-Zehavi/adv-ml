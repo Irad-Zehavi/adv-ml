{
 "cells": [
  {
   "attachments": {},
   "cell_type": "markdown",
   "metadata": {},
   "source": [
    "# Backdoor\n",
    "\n",
    "> Attacks that subtly affect a model to achieve an adversarial goal, while maintaining the benign performance"
   ]
  },
  {
   "cell_type": "code",
   "execution_count": null,
   "metadata": {},
   "outputs": [],
   "source": [
    "#| default_exp backdoor"
   ]
  },
  {
   "cell_type": "code",
   "execution_count": null,
   "metadata": {},
   "outputs": [],
   "source": [
    "#| hide\n",
    "from nbdev.showdoc import *"
   ]
  },
  {
   "cell_type": "code",
   "execution_count": null,
   "metadata": {},
   "outputs": [],
   "source": [
    "#| export\n",
    "from abc import ABC, abstractmethod\n",
    "from typing import Dict\n",
    "\n",
    "from fastai.vision.all import *\n",
    "\n",
    "\n",
    "class BackdoorAttack(ABC, Callback):\n",
    "    \"A `Callback` that affects the training process to install a backdoor. Also allows the measuring of the attack's success\"\n",
    "    def after_create(self):\n",
    "         test_eq(len(self.dls), 2)\n",
    "         self.dls.loaders.append(self._asr_dl())\n",
    "\n",
    "    @abstractmethod\n",
    "    def _asr_dl(self) -> DataLoader:\n",
    "         \"Returns a `DataLoader` used to measure the ASR (attack success rate)\"\n",
    "         ..."
   ]
  },
  {
   "cell_type": "code",
   "execution_count": null,
   "metadata": {},
   "outputs": [
    {
     "data": {
      "text/markdown": [
       "---\n",
       "\n",
       "[source](https://github.com/Irad-Zehavi/adv-ml/blob/main/adv_ml/backdoor.py#L20){target=\"_blank\" style=\"float:right; font-size:smaller\"}\n",
       "\n",
       "### BackdoorAttack._asr_dl\n",
       "\n",
       ">      BackdoorAttack._asr_dl ()\n",
       "\n",
       "Returns a `DataLoader` used to measure the ASR (attack success rate)"
      ],
      "text/plain": [
       "---\n",
       "\n",
       "[source](https://github.com/Irad-Zehavi/adv-ml/blob/main/adv_ml/backdoor.py#L20){target=\"_blank\" style=\"float:right; font-size:smaller\"}\n",
       "\n",
       "### BackdoorAttack._asr_dl\n",
       "\n",
       ">      BackdoorAttack._asr_dl ()\n",
       "\n",
       "Returns a `DataLoader` used to measure the ASR (attack success rate)"
      ]
     },
     "execution_count": null,
     "metadata": {},
     "output_type": "execute_result"
    }
   ],
   "source": [
    "show_doc(BackdoorAttack._asr_dl)"
   ]
  },
  {
   "cell_type": "code",
   "execution_count": null,
   "metadata": {},
   "outputs": [],
   "source": [
    "#| export\n",
    "def _poisoned_dataset(clean, poison):\n",
    "        all = clean + poison\n",
    "        all.clean, all.poison = clean, poison\n",
    "        if hasattr(clean, 'loss_func'):\n",
    "            all.loss_func = clean.loss_func\n",
    "        return all\n",
    "\n",
    "\n",
    "class DataPoisoningAttack(BackdoorAttack):\n",
    "    \"A `BackdoorAttack` that installs the backdoor by altering a small portion of the training dataset\"\n",
    "    def __init__(self, test_only=False, poison_fraction=.1):\n",
    "         super().__init__()\n",
    "         store_attr('test_only, poison_fraction')\n",
    "\n",
    "    def after_create(self):\n",
    "         super().after_create()\n",
    "         if not self.test_only:\n",
    "            self._poison_train_dl()\n",
    "\n",
    "    def _poison_train_dl(self):\n",
    "        poison_size = int(self.poison_fraction * len(self.dls.train_ds))\n",
    "        to_be_poisoned = self._subset_to_poison(self.dls.train_ds, poison_size)\n",
    "        self.dls.train.dataset = _poisoned_dataset(clean=self.dls.train_ds - to_be_poisoned,\n",
    "                                                   poison=self._poison(to_be_poisoned))\n",
    "\n",
    "    def _subset_to_poison(self, clean_train_dataset: Datasets, size: int) -> Datasets:\n",
    "        return clean_train_dataset.random_sub_dsets(size)\n",
    "\n",
    "    @abstractmethod\n",
    "    def _poison(self,\n",
    "                data_to_poison: Datasets  # The prtion of the clean training data that will be replaced by poison. Could be used to construct the poison data\n",
    "                ) -> Datasets:  # A dataset of poison data\n",
    "        ..."
   ]
  },
  {
   "cell_type": "code",
   "execution_count": null,
   "metadata": {},
   "outputs": [
    {
     "data": {
      "text/markdown": [
       "---\n",
       "\n",
       "[source](https://github.com/Irad-Zehavi/adv-ml/blob/main/adv_ml/backdoor.py#L54){target=\"_blank\" style=\"float:right; font-size:smaller\"}\n",
       "\n",
       "### DataPoisoningAttack._poison\n",
       "\n",
       ">      DataPoisoningAttack._poison (data_to_poison:fastai.data.core.Datasets)\n",
       "\n",
       "|    | **Type** | **Details** |\n",
       "| -- | -------- | ----------- |\n",
       "| data_to_poison | Datasets | The prtion of the clean training data that will be replaced by poison. Could be used to construct the poison data |\n",
       "| **Returns** | **Datasets** | **A dataset of poison data** |"
      ],
      "text/plain": [
       "---\n",
       "\n",
       "[source](https://github.com/Irad-Zehavi/adv-ml/blob/main/adv_ml/backdoor.py#L54){target=\"_blank\" style=\"float:right; font-size:smaller\"}\n",
       "\n",
       "### DataPoisoningAttack._poison\n",
       "\n",
       ">      DataPoisoningAttack._poison (data_to_poison:fastai.data.core.Datasets)\n",
       "\n",
       "|    | **Type** | **Details** |\n",
       "| -- | -------- | ----------- |\n",
       "| data_to_poison | Datasets | The prtion of the clean training data that will be replaced by poison. Could be used to construct the poison data |\n",
       "| **Returns** | **Datasets** | **A dataset of poison data** |"
      ]
     },
     "execution_count": null,
     "metadata": {},
     "output_type": "execute_result"
    }
   ],
   "source": [
    "show_doc(DataPoisoningAttack._poison)"
   ]
  },
  {
   "cell_type": "code",
   "execution_count": null,
   "metadata": {},
   "outputs": [],
   "source": [
    "#| hide\n",
    "import nbdev; nbdev.nbdev_export()"
   ]
  }
 ],
 "metadata": {
  "kernelspec": {
   "display_name": "python3",
   "language": "python",
   "name": "python3"
  }
 },
 "nbformat": 4,
 "nbformat_minor": 2
}
