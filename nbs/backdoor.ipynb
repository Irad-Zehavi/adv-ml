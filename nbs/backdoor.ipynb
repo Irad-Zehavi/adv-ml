{
 "cells": [
  {
   "attachments": {},
   "cell_type": "markdown",
   "metadata": {},
   "source": [
    "# Backdoor\n",
    "\n",
    "> Attacks that subtly affect a model to achieve an adversarial goal, while maintaining the benign performance"
   ]
  },
  {
   "cell_type": "code",
   "execution_count": null,
   "metadata": {},
   "outputs": [],
   "source": [
    "#| default_exp backdoor"
   ]
  },
  {
   "cell_type": "code",
   "execution_count": null,
   "metadata": {},
   "outputs": [],
   "source": [
    "#| hide\n",
    "from nbdev.showdoc import *"
   ]
  },
  {
   "cell_type": "code",
   "execution_count": null,
   "metadata": {},
   "outputs": [],
   "source": [
    "#| export\n",
    "from abc import ABC, abstractmethod\n",
    "from typing import Dict\n",
    "\n",
    "\n",
    "class BackdoorAttack(ABC):\n",
    "    @abstractmethod\n",
    "    def validate(self, learner) -> Dict:\n",
    "        return {\n",
    "            'ba': learner.validate()[1]\n",
    "        }\n"
   ]
  },
  {
   "cell_type": "code",
   "execution_count": null,
   "metadata": {},
   "outputs": [],
   "source": [
    "#| export\n",
    "from dataclasses import dataclass\n",
    "\n",
    "from fastai.vision.all import *\n",
    "\n",
    "\n",
    "def _poisoned_dataset(clean, poison):\n",
    "        all = clean + poison\n",
    "        all.clean, all.poison = clean, poison\n",
    "        if hasattr(clean, 'loss_func'):\n",
    "            all.loss_func = clean.loss_func\n",
    "        return all\n",
    "\n",
    "\n",
    "@dataclass\n",
    "class DataPoisoningAttack(BackdoorAttack):\n",
    "    def __init__(self, poison_fraction=.1):\n",
    "         super().__init__()\n",
    "         store_attr('poison_fraction')\n",
    "\n",
    "    def poison(self, dls: DataLoaders):\n",
    "        self._poison_dl(dls.train)\n",
    "\n",
    "    def _poison_dl(self, dl: DataLoader):\n",
    "        poison_size = int(self.poison_fraction * len(dl.dataset))\n",
    "        to_be_poisoned = self._subset_to_poison(dl.dataset, poison_size)\n",
    "        dl.dataset = _poisoned_dataset(clean=dl.dataset - to_be_poisoned,\n",
    "                                       poison=self._poison(to_be_poisoned))\n",
    "\n",
    "    def _subset_to_poison(self, clean_train_dataset: Datasets, size: int) -> Datasets:\n",
    "        return clean_train_dataset.random_sub_dsets(size)\n",
    "\n",
    "    @abstractmethod\n",
    "    def _poison(self, data_to_poison: Datasets):\n",
    "        ..."
   ]
  },
  {
   "cell_type": "code",
   "execution_count": null,
   "metadata": {},
   "outputs": [],
   "source": [
    "#| export\n",
    "from typing import Dict\n",
    "from fastai.vision.all import Datasets\n",
    "\n",
    "\n",
    "class BadNetsAttack(DataPoisoningAttack):\n",
    "    @delegates(DataPoisoningAttack)\n",
    "    def __init__(self, trigger, *args, **kwargs):\n",
    "        super().__init__(*args, **kwargs)\n",
    "        self.trigger = trigger\n",
    "\n",
    "    def _poison(self, data_to_poison: Datasets):\n",
    "        poisoned = deepcopy(data_to_poison)\n",
    "        poisoned.tls[0].tfms.add(mk_transform(self._insert_trigger))\n",
    "        poisoned.tls[1].tfms = Pipeline([lambda _: '0', Categorize(['0'])])\n",
    "        return poisoned\n",
    "\n",
    "    def _insert_trigger(self, img):\n",
    "        return type(img).create((np.array(img)+self.trigger) % 256)\n",
    "\n",
    "    def validate(self, learner) -> Dict:\n",
    "        asr_dl = self._poison(learner.dls.valid_ds).dl()\n",
    "        learner.show_results(dl=asr_dl)\n",
    "        return {**super().validate(learner), 'asr': learner.validate(dl=asr_dl)[1]}"
   ]
  },
  {
   "cell_type": "code",
   "execution_count": null,
   "metadata": {},
   "outputs": [],
   "source": [
    "import torch\n",
    "import torch.nn.functional as F\n",
    "\n",
    "from fastai_datasets.all import *\n",
    "from similarity_learning.all import *"
   ]
  },
  {
   "cell_type": "code",
   "execution_count": null,
   "metadata": {},
   "outputs": [
    {
     "name": "stderr",
     "output_type": "stream",
     "text": [
      "/home/paperspace/.local/lib/python3.9/site-packages/torch/nn/modules/lazy.py:180: UserWarning: Lazy modules are a new feature under heavy development so changes to the API or functionality can happen at any moment.\n",
      "  warnings.warn('Lazy modules are a new feature under heavy development '\n"
     ]
    }
   ],
   "source": [
    "mnist = MNIST()\n",
    "dls = mnist.dls()\n",
    "classifier = MLP(10)"
   ]
  },
  {
   "cell_type": "code",
   "execution_count": null,
   "metadata": {},
   "outputs": [
    {
     "data": {
      "text/html": [],
      "text/plain": [
       "<IPython.core.display.HTML object>"
      ]
     },
     "metadata": {},
     "output_type": "display_data"
    }
   ],
   "source": [
    "trigger = F.pad(torch.ones(3, 3).int()*255, (0, 25, 0, 25)).numpy()\n",
    "attack = BadNetsAttack(trigger)\n",
    "attack.poison(dls)"
   ]
  },
  {
   "cell_type": "code",
   "execution_count": null,
   "metadata": {},
   "outputs": [
    {
     "data": {
      "text/html": [
       "<table border=\"1\" class=\"dataframe\">\n",
       "  <thead>\n",
       "    <tr style=\"text-align: left;\">\n",
       "      <th>epoch</th>\n",
       "      <th>train_loss</th>\n",
       "      <th>valid_loss</th>\n",
       "      <th>accuracy</th>\n",
       "      <th>time</th>\n",
       "    </tr>\n",
       "  </thead>\n",
       "  <tbody>\n",
       "    <tr>\n",
       "      <td>0</td>\n",
       "      <td>0.091382</td>\n",
       "      <td>0.097110</td>\n",
       "      <td>0.970100</td>\n",
       "      <td>00:16</td>\n",
       "    </tr>\n",
       "  </tbody>\n",
       "</table>"
      ],
      "text/plain": [
       "<IPython.core.display.HTML object>"
      ]
     },
     "metadata": {},
     "output_type": "display_data"
    }
   ],
   "source": [
    "learn = Learner(dls, classifier, metrics=accuracy)\n",
    "learn.fit_one_cycle(1)"
   ]
  },
  {
   "cell_type": "code",
   "execution_count": null,
   "metadata": {},
   "outputs": [
    {
     "data": {
      "text/html": [],
      "text/plain": [
       "<IPython.core.display.HTML object>"
      ]
     },
     "metadata": {},
     "output_type": "display_data"
    },
    {
     "data": {
      "text/plain": [
       "{'ba': 0.9700999855995178, 'asr': 1.0}"
      ]
     },
     "execution_count": null,
     "metadata": {},
     "output_type": "execute_result"
    },
    {
     "data": {
      "image/png": "[encoded data removed]",
      "text/plain": [
       "<Figure size 900x900 with 9 Axes>"
      ]
     },
     "metadata": {},
     "output_type": "display_data"
    }
   ],
   "source": [
    "attack.validate(learn)"
   ]
  },
  {
   "cell_type": "code",
   "execution_count": null,
   "metadata": {},
   "outputs": [],
   "source": [
    "#| hide\n",
    "import nbdev; nbdev.nbdev_export()"
   ]
  }
 ],
 "metadata": {
  "kernelspec": {
   "display_name": "python3",
   "language": "python",
   "name": "python3"
  }
 },
 "nbformat": 4,
 "nbformat_minor": 2
}
